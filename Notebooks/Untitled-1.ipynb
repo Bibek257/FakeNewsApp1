{
 "cells": [
  {
   "cell_type": "code",
   "execution_count": 1,
   "id": "2bf00cd0",
   "metadata": {},
   "outputs": [],
   "source": [
    "import pandas as pd\n",
    "import numpy as np\n"
   ]
  },
  {
   "cell_type": "code",
   "execution_count": 3,
   "id": "38b7989b",
   "metadata": {},
   "outputs": [
    {
     "name": "stdout",
     "output_type": "stream",
     "text": [
      "                                                text  class\n",
      "0  WASHINGTON (Reuters) - President Barack Obama ...      1\n",
      "1  BRUSSELS/MADRID/BARCELONA (Reuters) - Sacked C...      1\n",
      "2  The internet has been destroying the Trump adm...      0\n",
      "3  It seems that Republican candidate for Attorne...      0\n",
      "4  The man who served as White House Counsel to f...      0\n",
      "(3424, 2)\n"
     ]
    }
   ],
   "source": [
    "test_data=pd.read_csv(\"FakeNewsApp1/artifacts/data_validation/test_valid.csv\")\n",
    "print(test_data.head())\n",
    "print(test_data.shape)"
   ]
  },
  {
   "cell_type": "code",
   "execution_count": 4,
   "id": "64d5c367",
   "metadata": {},
   "outputs": [
    {
     "data": {
      "text/plain": [
       "class\n",
       "1    1823\n",
       "0    1601\n",
       "Name: count, dtype: int64"
      ]
     },
     "execution_count": 4,
     "metadata": {},
     "output_type": "execute_result"
    }
   ],
   "source": [
    "test_data['class'].value_counts()"
   ]
  },
  {
   "cell_type": "code",
   "execution_count": 5,
   "id": "38966c1b",
   "metadata": {},
   "outputs": [
    {
     "name": "stdout",
     "output_type": "stream",
     "text": [
      "                                                text  class\n",
      "0  At a Hillary Clinton rally in Greensboro, NC o...      0\n",
      "1  BERLIN (Reuters) - A decision by U.S. Presiden...      1\n",
      "2  Join Patrick every Wednesday at Independent Ta...      0\n",
      "3  (Reuters) - Some 20 demonstrators were arreste...      1\n",
      "4  Republicans are hell bent on repealing Obamaca...      0\n",
      "(25750, 2)\n"
     ]
    },
    {
     "data": {
      "text/plain": [
       "class\n",
       "1    13434\n",
       "0    12316\n",
       "Name: count, dtype: int64"
      ]
     },
     "execution_count": 5,
     "metadata": {},
     "output_type": "execute_result"
    }
   ],
   "source": [
    "train_data=pd.read_csv(\"FakeNewsApp1/artifacts/data_validation/train_valid.csv\")\n",
    "print(train_data.head())\n",
    "print(train_data.shape)\n",
    "train_data['class'].value_counts()"
   ]
  },
  {
   "cell_type": "code",
   "execution_count": 6,
   "id": "01452123",
   "metadata": {},
   "outputs": [
    {
     "name": "stdout",
     "output_type": "stream",
     "text": [
      "                                                text  class\n",
      "0  This week, Donald Trump disappointed the entir...      0\n",
      "1  SINGAPORE (Reuters) - A Singapore mass transit...      1\n",
      "2  You know how Trump supporters are screaming be...      0\n",
      "3  JERUSALEM/GAZA (Reuters) - The Islamist group ...      1\n",
      "4  BERLIN (Reuters) - German Chancellor Angela Me...      1\n",
      "(4560, 2)\n"
     ]
    },
    {
     "data": {
      "text/plain": [
       "class\n",
       "1    2373\n",
       "0    2187\n",
       "Name: count, dtype: int64"
      ]
     },
     "execution_count": 6,
     "metadata": {},
     "output_type": "execute_result"
    }
   ],
   "source": [
    "val_data=pd.read_csv(\"FakeNewsApp1/artifacts/data_validation/val_valid.csv\")\n",
    "print(val_data.head())\n",
    "print(val_data.shape)\n",
    "val_data['class'].value_counts()"
   ]
  },
  {
   "cell_type": "code",
   "execution_count": 7,
   "id": "f22d139d",
   "metadata": {},
   "outputs": [
    {
     "name": "stdout",
     "output_type": "stream",
     "text": [
      "                                                text  class\n",
      "0  GENEVA (Reuters) - The International Committee...      1\n",
      "1  With a growing number of Muslim refugees and i...      0\n",
      "2  TORONTO (Reuters) - Former Canadian Prime Mini...      1\n",
      "3   So much winning!  Were  going to be winning s...      0\n",
      "4  PYONGYANG - North Koreans stage a demonstratio...      1\n",
      "(44898, 2)\n"
     ]
    },
    {
     "data": {
      "text/plain": [
       "class\n",
       "0    23481\n",
       "1    21417\n",
       "Name: count, dtype: int64"
      ]
     },
     "execution_count": 7,
     "metadata": {},
     "output_type": "execute_result"
    }
   ],
   "source": [
    "ingested_data=pd.read_csv(\"FakeNewsApp1/artifacts/data_ingestion/raw_data.csv\")\n",
    "print(ingested_data.head())\n",
    "print(ingested_data.shape)\n",
    "ingested_data['class'].value_counts()"
   ]
  },
  {
   "cell_type": "code",
   "execution_count": 8,
   "id": "89557cd9",
   "metadata": {},
   "outputs": [
    {
     "name": "stdout",
     "output_type": "stream",
     "text": [
      "                                                text  class\n",
      "0  At a Hillary Clinton rally in Greensboro, NC o...      0\n",
      "1  ERBIL, Iraq (Reuters) - At least one person di...      1\n",
      "2  This is pretty hysterical and is a reaction du...      0\n",
      "3  BERLIN (Reuters) - A decision by U.S. Presiden...      1\n",
      "4  Join Patrick every Wednesday at Independent Ta...      0\n",
      "(29564, 2)\n"
     ]
    },
    {
     "data": {
      "text/plain": [
       "class\n",
       "1    16181\n",
       "0    13383\n",
       "Name: count, dtype: int64"
      ]
     },
     "execution_count": 8,
     "metadata": {},
     "output_type": "execute_result"
    }
   ],
   "source": [
    "ingested_train_data=pd.read_csv(\"FakeNewsApp1/artifacts/data_ingestion/train.csv\")\n",
    "print(ingested_train_data.head())\n",
    "print(ingested_train_data.shape)\n",
    "ingested_train_data['class'].value_counts()"
   ]
  },
  {
   "cell_type": "code",
   "execution_count": 10,
   "id": "317268c7",
   "metadata": {},
   "outputs": [
    {
     "data": {
      "text/plain": [
       "class\n",
       "1    2151\n",
       "0    1714\n",
       "Name: count, dtype: int64"
      ]
     },
     "execution_count": 10,
     "metadata": {},
     "output_type": "execute_result"
    }
   ],
   "source": [
    "ingested_test=data=pd.read_csv(\"FakeNewsApp1/artifacts/data_ingestion/test.csv\")\n",
    "ingested_test['class'].value_counts()\n"
   ]
  },
  {
   "cell_type": "code",
   "execution_count": 11,
   "id": "7f9674df",
   "metadata": {},
   "outputs": [
    {
     "data": {
      "text/plain": [
       "class\n",
       "1    2860\n",
       "0    2358\n",
       "Name: count, dtype: int64"
      ]
     },
     "execution_count": 11,
     "metadata": {},
     "output_type": "execute_result"
    }
   ],
   "source": [
    "ingested_val=data=pd.read_csv(\"FakeNewsApp1/artifacts/data_ingestion/val_data.csv\")\n",
    "ingested_val['class'].value_counts()"
   ]
  },
  {
   "cell_type": "code",
   "execution_count": 15,
   "id": "ca59ccf7",
   "metadata": {},
   "outputs": [
    {
     "data": {
      "text/plain": [
       "class\n",
       "0    23481\n",
       "1    21417\n",
       "Name: count, dtype: int64"
      ]
     },
     "execution_count": 15,
     "metadata": {},
     "output_type": "execute_result"
    }
   ],
   "source": [
    "main_data_true=pd.read_csv(\"FakeNewsApp1/data/True.csv\")\n",
    "main_data_fake=pd.read_csv(\"FakeNewsApp1/data/Fake.csv\")\n",
    "main_data_true['class']=1\n",
    "main_data_fake['class']=0\n",
    "df=pd.concat([main_data_true,main_data_fake])\n",
    "df['class'].value_counts()"
   ]
  },
  {
   "cell_type": "code",
   "execution_count": 16,
   "id": "b1164843",
   "metadata": {},
   "outputs": [
    {
     "name": "stdout",
     "output_type": "stream",
     "text": [
      "Ingested train data shape: (29564, 2)\n",
      "Ingested test data shape: (3865, 2)\n",
      "Ingested val data shape: (5218, 2)\n",
      "Ingested raw data shape: (44898, 2)\n",
      "Validated train data shape: (25750, 2)\n",
      "Validated test data shape: (3424, 2)\n",
      "Validated val data shape: (4560, 2)\n",
      "Main data shape: (44898, 5)\n"
     ]
    }
   ],
   "source": [
    "# printing all train test and val of ingested and validated data and main data\n",
    "print(\"Ingested train data shape:\", ingested_train_data.shape)\n",
    "print(\"Ingested test data shape:\", ingested_test.shape)\n",
    "print(\"Ingested val data shape:\", ingested_val.shape)\n",
    "print(\"Ingested raw data shape:\", ingested_data.shape)\n",
    "print(\"Validated train data shape:\", train_data.shape)\n",
    "print(\"Validated test data shape:\", test_data.shape)\n",
    "print(\"Validated val data shape:\", val_data.shape)\n",
    "print(\"Main data shape:\", df.shape)"
   ]
  },
  {
   "cell_type": "code",
   "execution_count": null,
   "id": "1d719725",
   "metadata": {},
   "outputs": [],
   "source": []
  }
 ],
 "metadata": {
  "kernelspec": {
   "display_name": "myenv",
   "language": "python",
   "name": "python3"
  },
  "language_info": {
   "codemirror_mode": {
    "name": "ipython",
    "version": 3
   },
   "file_extension": ".py",
   "mimetype": "text/x-python",
   "name": "python",
   "nbconvert_exporter": "python",
   "pygments_lexer": "ipython3",
   "version": "3.9.13"
  }
 },
 "nbformat": 4,
 "nbformat_minor": 5
}
